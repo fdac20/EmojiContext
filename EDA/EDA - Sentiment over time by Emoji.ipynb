{
 "cells": [
  {
   "cell_type": "code",
   "execution_count": 42,
   "metadata": {},
   "outputs": [],
   "source": [
    "import pandas as pd\n",
    "import emoji \n",
    "import codecs\n",
    "\n",
    "df = pd.read_csv(\"proc_tweets.csv.gz\",low_memory=False, nrows=500000, usecols=[\"TIME POSTED\",\"TWITTER'S TIME POSTED\",\"RETWEET\"], compression='gzip')\n",
    "\n",
    "df[\"emoji\"] = df[\"RETWEET\"].apply(lambda x: [i for i in str(x).split() if i in emoji.UNICODE_EMOJI])\n",
    "\n"
   ]
  },
  {
   "cell_type": "code",
   "execution_count": 43,
   "metadata": {},
   "outputs": [],
   "source": [
    "import numpy as np\n",
    "from nltk.tokenize import TweetTokenizer\n",
    "from nltk.corpus import stopwords\n",
    "import string\n",
    "from sklearn.metrics.pairwise import cosine_similarity\n",
    "from sklearn.feature_extraction.text import CountVectorizer, TfidfVectorizer\n",
    "\n",
    "def senti_data(filename_pos, filename_neg):\n",
    "    '''\n",
    "    Converts a list of positive and negative words into a lists.\n",
    "    Output: pos: List of all positive words\n",
    "            neg: List of all negative words\n",
    "    '''\n",
    "    positive_vocab = ''\n",
    "    negative_vocab = ''\n",
    "\n",
    "    with open(filename_pos, 'r') as f:\n",
    "        for line in f:\n",
    "            positive_vocab += line.strip() + ' '\n",
    "\n",
    "    with open(filename_neg, 'r') as f:\n",
    "        for line in f:\n",
    "            negative_vocab += line.strip() + ' '\n",
    "    pos = []\n",
    "    neg = []\n",
    "    pos.append(positive_vocab)\n",
    "    neg.append(negative_vocab)\n",
    "    return pos, neg\n",
    "\n",
    "\n",
    "#Creating Vectorizer and transforming data\n",
    "cv = TfidfVectorizer(ngram_range=(1,3), stop_words='english', strip_accents='unicode')\n",
    "tf = cv.fit_transform(df['RETWEET'].apply(lambda x: np.str_(x)))\n",
    "\n",
    "#Getting positive and negative words list\n",
    "pos, neg = senti_data('data/pos.txt','data/neg.txt')\n",
    "\n",
    "#Converting the words list to vectors\n",
    "pos_vec = cv.transform(pos)\n",
    "neg_vec = cv.transform(neg)\n",
    "\n",
    "#Calculating similarity between each tweet and the positive vector\n",
    "pos_score = np.asanyarray(cosine_similarity(tf,pos_vec))\n",
    "neg_score = np.asanyarray(cosine_similarity(tf,neg_vec))\n",
    "\n",
    "#Calculating net score, assuming that each tweet would have a positive and negative score associated with it. And the net difference would give me the net orientation of the tweet.\n",
    "score = pos_score - neg_score\n",
    "\n",
    "# #Getting the top 20 tweets with a positive sentiment\n",
    "# top_tweets = np.argsort(score.ravel())[-20:][::-1]\n",
    "# for index, top_tweet in enumerate(top_tweets):\n",
    "#     print(df.RETWEET[top_tweet],score.ravel()[top_tweet] )\n",
    "\n",
    "df[\"score\"] = score\n",
    "\n",
    "\n"
   ]
  },
  {
   "cell_type": "code",
   "execution_count": 44,
   "metadata": {},
   "outputs": [
    {
     "data": {
      "text/html": [
       "<div>\n",
       "<style scoped>\n",
       "    .dataframe tbody tr th:only-of-type {\n",
       "        vertical-align: middle;\n",
       "    }\n",
       "\n",
       "    .dataframe tbody tr th {\n",
       "        vertical-align: top;\n",
       "    }\n",
       "\n",
       "    .dataframe thead th {\n",
       "        text-align: right;\n",
       "    }\n",
       "</style>\n",
       "<table border=\"1\" class=\"dataframe\">\n",
       "  <thead>\n",
       "    <tr style=\"text-align: right;\">\n",
       "      <th></th>\n",
       "      <th>TIME POSTED</th>\n",
       "      <th>TWITTER'S TIME POSTED</th>\n",
       "      <th>RETWEET</th>\n",
       "      <th>emoji</th>\n",
       "      <th>score</th>\n",
       "    </tr>\n",
       "  </thead>\n",
       "  <tbody>\n",
       "    <tr>\n",
       "      <th>0</th>\n",
       "      <td>October 13, 2020 21:08:51</td>\n",
       "      <td>2020-10-13 21:08:45</td>\n",
       "      <td>happening tooooo long it's worse fellow Afric...</td>\n",
       "      <td>[]</td>\n",
       "      <td>-0.005328</td>\n",
       "    </tr>\n",
       "    <tr>\n",
       "      <th>1</th>\n",
       "      <td>October 13, 2020 21:08:51</td>\n",
       "      <td>2020-10-13 21:08:45</td>\n",
       "      <td>It's minute 😭 https//tco/1UKEk20mcX</td>\n",
       "      <td>[😭]</td>\n",
       "      <td>0.000000</td>\n",
       "    </tr>\n",
       "    <tr>\n",
       "      <th>2</th>\n",
       "      <td>October 13, 2020 21:08:51</td>\n",
       "      <td>2020-10-13 21:08:45</td>\n",
       "      <td>Nigerian youths (Male Female) appreciation tw...</td>\n",
       "      <td>[❤️]</td>\n",
       "      <td>0.000944</td>\n",
       "    </tr>\n",
       "    <tr>\n",
       "      <th>3</th>\n",
       "      <td>October 13, 2020 21:08:51</td>\n",
       "      <td>2020-10-13 21:08:45</td>\n",
       "      <td>white person say \"what\" sharp hearing correct...</td>\n",
       "      <td>[😅]</td>\n",
       "      <td>0.009838</td>\n",
       "    </tr>\n",
       "    <tr>\n",
       "      <th>4</th>\n",
       "      <td>October 13, 2020 21:08:51</td>\n",
       "      <td>2020-10-13 21:08:45</td>\n",
       "      <td>support #DOTYouth Catherine Kamau incredible ...</td>\n",
       "      <td>[]</td>\n",
       "      <td>0.006059</td>\n",
       "    </tr>\n",
       "  </tbody>\n",
       "</table>\n",
       "</div>"
      ],
      "text/plain": [
       "                  TIME POSTED TWITTER'S TIME POSTED  \\\n",
       "0   October 13, 2020 21:08:51   2020-10-13 21:08:45   \n",
       "1   October 13, 2020 21:08:51   2020-10-13 21:08:45   \n",
       "2   October 13, 2020 21:08:51   2020-10-13 21:08:45   \n",
       "3   October 13, 2020 21:08:51   2020-10-13 21:08:45   \n",
       "4   October 13, 2020 21:08:51   2020-10-13 21:08:45   \n",
       "\n",
       "                                             RETWEET emoji     score  \n",
       "0   happening tooooo long it's worse fellow Afric...    [] -0.005328  \n",
       "1                It's minute 😭 https//tco/1UKEk20mcX   [😭]  0.000000  \n",
       "2   Nigerian youths (Male Female) appreciation tw...  [❤️]  0.000944  \n",
       "3   white person say \"what\" sharp hearing correct...   [😅]  0.009838  \n",
       "4   support #DOTYouth Catherine Kamau incredible ...    []  0.006059  "
      ]
     },
     "execution_count": 44,
     "metadata": {},
     "output_type": "execute_result"
    }
   ],
   "source": [
    "df.head()"
   ]
  },
  {
   "cell_type": "code",
   "execution_count": null,
   "metadata": {},
   "outputs": [],
   "source": [
    "tracked_emoticons = df[\"emoji\"].explode().unique()[1:40]\n",
    "\n",
    "for emoticon in tracked_emoticons:\n",
    "    df[emoticon]=0\n",
    "    \n",
    "for index, row in df.iterrows():\n",
    "    \n",
    "    for emoji in row[\"emoji\"]:\n",
    "        if emoji in tracked_emoticons:\n",
    "            df.loc[index, emoji] = row[\"score\"]\n",
    "\n",
    "        \n",
    "        "
   ]
  },
  {
   "cell_type": "code",
   "execution_count": null,
   "metadata": {},
   "outputs": [],
   "source": [
    "df.columns"
   ]
  },
  {
   "cell_type": "code",
   "execution_count": null,
   "metadata": {},
   "outputs": [],
   "source": [
    "# df[[\"TWITTER'S TIME POSTED\",\n",
    "#        '😭', '❤️', '😅', '💪', '😁', '🇺🇦', '👏', '🙄', '🥵', '🔥', '🌶', '😂', '👍', '🙏',\n",
    "#        '😘', '😍', '🤣', '😉', '🔴', '🤔', '💕', '☺️', '©', '🎉', '😊', '🤩', '💫', '😻',\n",
    "#        '💙', '🍑', '🇵🇹', '💖', '♥️', '🙏🏽', '💯', '😆', '👀', '😜', '😏']].sort_values(by=\"TWITTER'S TIME POSTED\").cumsum().plot(figsize=(50,20), fontproperties=\"prop\")\n"
   ]
  },
  {
   "cell_type": "code",
   "execution_count": null,
   "metadata": {},
   "outputs": [],
   "source": [
    "import matplotlib.pyplot as plt\n",
    "\n",
    "df[\"TWITTER'S TIME POSTED\"] = pd.to_datetime(df[\"TWITTER'S TIME POSTED\"], format='%Y-%m-%d %H:%M:%S')\n",
    "df.set_index([\"TWITTER'S TIME POSTED\"],inplace=True)\n",
    "\n"
   ]
  },
  {
   "cell_type": "code",
   "execution_count": null,
   "metadata": {},
   "outputs": [],
   "source": [
    "df"
   ]
  },
  {
   "cell_type": "code",
   "execution_count": null,
   "metadata": {},
   "outputs": [],
   "source": [
    "\n",
    "\n",
    "ax = df[[\n",
    "       '😭', '❤️', '😅', '😁', '😂']].cumsum().plot(figsize=(13,5),ylabel=\"Sentiment\")\n",
    "\n",
    "plt.show()\n"
   ]
  },
  {
   "cell_type": "code",
   "execution_count": null,
   "metadata": {},
   "outputs": [],
   "source": []
  }
 ],
 "metadata": {
  "kernelspec": {
   "display_name": "Python 3",
   "language": "python",
   "name": "python3"
  },
  "language_info": {
   "codemirror_mode": {
    "name": "ipython",
    "version": 3
   },
   "file_extension": ".py",
   "mimetype": "text/x-python",
   "name": "python",
   "nbconvert_exporter": "python",
   "pygments_lexer": "ipython3",
   "version": "3.8.2"
  }
 },
 "nbformat": 4,
 "nbformat_minor": 4
}
