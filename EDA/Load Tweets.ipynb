{
 "cells": [
  {
   "cell_type": "code",
   "execution_count": null,
   "metadata": {},
   "outputs": [],
   "source": [
    "import requests \n",
    "import pathlib\n",
    "import ftfy\n",
    "\n",
    "\n",
    "def process_raw_tweets(tweets):\n",
    "    \n",
    "    min_tweet=0\n",
    "    max_tweet=1553\n",
    "    max_tweet=len(tweets)\n",
    "\n",
    "    tweet_objects = []\n",
    "\n",
    "    for tweet in tweets[min_tweet:max_tweet].split(\"------------------------------------------------\"):\n",
    "        try:\n",
    "            tweet_object = {}\n",
    "            for tweet_info in tweet.split(\"\\n\"):\n",
    "                if len(tweet_info)>0:\n",
    "                    tweet_obj_column = tweet_info[tweet_info.index(\"[\")+len(\"[\"):tweet_info.index(\"]\")]\n",
    "                    tweet_obj_data = tweet_info.split(\"]\", 1)[1]\n",
    "                    print(tweet_obj_column, tweet_obj_data)\n",
    "                    tweet_object[tweet_obj_column] = tweet_obj_data\n",
    "            tweet_objects.append(tweet_object)\n",
    "        except:\n",
    "            continue\n",
    "            \n",
    "    return tweet_objects\n",
    "\n",
    "\n",
    "def load_tweets(max_tweets=None):\n",
    "    \n",
    "    target_url = 'https://media.githubusercontent.com/media/fdac20/EmojiContext/master/rflint-scraper/raw-tweets.txt'\n",
    "    file_name = 'data/raw-tweets.txt'\n",
    "    \n",
    "    p = pathlib.Path(file_name)\n",
    "    if p.is_file():  # or p.is_dir() to see if it is a directory\n",
    "        try:\n",
    "            with p.open() as file:\n",
    "                print('loading locally.')\n",
    "\n",
    "                # do awesome stuff\n",
    "                data = file.read()\n",
    "                \n",
    "                if max_tweets is not None:\n",
    "                    data = ftfy.fix_text(data)\n",
    "                else:\n",
    "                    data = ftfy.fix_text(data[:max_tweets])\n",
    "                return data\n",
    "        except OSError:\n",
    "            print('Well darn.')\n",
    "    else:\n",
    "        print('loading online.')\n",
    "        \n",
    "        data = requests.get(target_url) # it's a file like object and works just like a file\n",
    "        with open(file_name, \"w\") as file:\n",
    "            file.write(data.text)\n",
    "            \n",
    "        if max_tweets is not None:\n",
    "            return ftfy.fix_text(data.text)\n",
    "        else:\n",
    "            return ftfy.fix_text(data.text[:max_tweets])\n"
   ]
  },
  {
   "cell_type": "code",
   "execution_count": null,
   "metadata": {},
   "outputs": [],
   "source": [
    "tweets = load_tweets(max_tweets=1000) \n",
    "## TO load all tweets\n",
    "# tweets = load_tweets() \n",
    "\n",
    "tweet_objects = process_raw_tweets(tweets)\n"
   ]
  },
  {
   "cell_type": "code",
   "execution_count": null,
   "metadata": {},
   "outputs": [],
   "source": [
    "len(tweet_objects)"
   ]
  },
  {
   "cell_type": "code",
   "execution_count": null,
   "metadata": {},
   "outputs": [],
   "source": [
    "import pandas as pd\n",
    "\n",
    "df = pd.DataFrame(tweet_objects)\n",
    "## TO load all tweets\n",
    "#df = pd.DataFrame(tweet_objects[])\n"
   ]
  }
 ],
 "metadata": {
  "kernelspec": {
   "display_name": "Python 3",
   "language": "python",
   "name": "python3"
  },
  "language_info": {
   "codemirror_mode": {
    "name": "ipython",
    "version": 3
   },
   "file_extension": ".py",
   "mimetype": "text/x-python",
   "name": "python",
   "nbconvert_exporter": "python",
   "pygments_lexer": "ipython3",
   "version": "3.8.2"
  }
 },
 "nbformat": 4,
 "nbformat_minor": 4
}
