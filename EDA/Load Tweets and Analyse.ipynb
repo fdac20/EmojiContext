{
 "cells": [
  {
   "cell_type": "code",
   "execution_count": 1,
   "metadata": {},
   "outputs": [],
   "source": [
    "import requests \n",
    "import pathlib\n",
    "import ftfy\n",
    "\n",
    "\n",
    "def process_raw_tweets(tweets):\n",
    "    \n",
    "    min_tweet=0\n",
    "    max_tweet=1553\n",
    "    max_tweet=len(tweets)\n",
    "\n",
    "    tweet_objects = []\n",
    "\n",
    "    for tweet in tweets[min_tweet:max_tweet].split(\"------------------------------------------------\"):\n",
    "        try:\n",
    "            tweet_object = {}\n",
    "            for tweet_info in tweet.split(\"\\n\"):\n",
    "                if len(tweet_info)>0:\n",
    "                    tweet_obj_column = tweet_info[tweet_info.index(\"[\")+len(\"[\"):tweet_info.index(\"]\")]\n",
    "                    tweet_obj_data = tweet_info.split(\"]\", 1)[1]\n",
    "                    tweet_object[tweet_obj_column] = tweet_obj_data\n",
    "            tweet_objects.append(tweet_object)\n",
    "        except:\n",
    "            continue\n",
    "            \n",
    "    return tweet_objects\n",
    "\n",
    "\n",
    "def load_tweets(max_tweets=None):\n",
    "    \n",
    "    target_url = 'https://media.githubusercontent.com/media/fdac20/EmojiContext/master/rflint-scraper/raw-tweets.txt'\n",
    "    file_name = 'data/raw-tweets.txt'\n",
    "    \n",
    "    p = pathlib.Path(file_name)\n",
    "    if p.is_file():  # or p.is_dir() to see if it is a directory\n",
    "        try:\n",
    "            with p.open() as file:\n",
    "                print('loading locally.')\n",
    "\n",
    "                # do awesome stuff\n",
    "                data = file.read()\n",
    "                \n",
    "                if max_tweets is not None:\n",
    "                    data = ftfy.fix_text(data)\n",
    "                else:\n",
    "                    data = ftfy.fix_text(data[:max_tweets])\n",
    "                return data\n",
    "        except OSError:\n",
    "            print('Well darn.')\n",
    "    else:\n",
    "        print('loading online.')\n",
    "        \n",
    "        data = requests.get(target_url) # it's a file like object and works just like a file\n",
    "        with open(file_name, \"w\") as file:\n",
    "            file.write(data.text)\n",
    "            \n",
    "        if max_tweets is not None:\n",
    "            return ftfy.fix_text(data.text)\n",
    "        else:\n",
    "            return ftfy.fix_text(data.text[:max_tweets])\n"
   ]
  },
  {
   "cell_type": "code",
   "execution_count": 2,
   "metadata": {},
   "outputs": [
    {
     "name": "stdout",
     "output_type": "stream",
     "text": [
      "loading locally.\n"
     ]
    }
   ],
   "source": [
    "tweets = load_tweets(max_tweets=1000) \n",
    "## TO load all tweets\n",
    "# tweets = load_tweets() \n",
    "\n",
    "tweet_objects = process_raw_tweets(tweets)\n"
   ]
  },
  {
   "cell_type": "code",
   "execution_count": 3,
   "metadata": {},
   "outputs": [
    {
     "data": {
      "text/plain": "903342"
     },
     "execution_count": 3,
     "metadata": {},
     "output_type": "execute_result"
    }
   ],
   "source": [
    "len(tweet_objects)"
   ]
  },
  {
   "cell_type": "code",
   "execution_count": 4,
   "metadata": {},
   "outputs": [],
   "source": [
    "import pandas as pd\n",
    "\n",
    "df = pd.DataFrame(tweet_objects[:100])\n",
    "## TO load all tweets\n",
    "#df = pd.DataFrame(tweet_objects[])\n"
   ]
  },
  {
   "cell_type": "code",
   "execution_count": 5,
   "metadata": {},
   "outputs": [
    {
     "name": "stdout",
     "output_type": "stream",
     "text": [
      " One best BEST ad season 💪 https//tco/pnfvjFeqoa 0.1588608416183041\n",
      " cheap subs holding raffle losers $3 enter Winner get choice 2 FREE feet pics FREE custom voice message MUST FOLLOWING WIN Dm enter 😘 https//tco/FsQxpujEjq 0.15327365148805913\n",
      " Michael get 7 bucks buy Chloe tall nonfat Almond milk latte sugar free caramel drizzle 🤔 Reply ur idea imma draw favorite one 0.05817057062000425\n",
      " gamsung camping fun easy watch cant imagine happy yong must felt loves type active schedules outdoorsy stuff much im glad casted show 😭 0.055881610904468706\n",
      " Whew kid NEVER know peace 🤣 0.04861285246608169\n",
      " Whew kid NEVER know peace 🤣 0.04861285246608169\n",
      " Whew kid NEVER know peace 🤣 0.04861285246608169\n",
      " shoutout talented friend talented go give follow support ❤️ https//tco/zPOdRaH72c 0.0480176765756244\n",
      " [TRANS] 201014 Kibum Insta Live Someone asked room light Kibum said one best recent purchases looks like book moment flip open it's light open 360 degrees wireless charging 🤣 #bumkeyk https//tco/yjSkdE7Toq 0.047421483337174504\n",
      " support #DOTYouth Catherine Kamau incredible work support #MentalHealth psychosocial wellbeing women girls Kenya learn #COVID19 response initiative visit https//tco/GaoDiH2CDH https//tco/kXO9U9zNyR 0.046668066738051656\n",
      " nephew takes curved cock better friends 😅 https//tco/jbrCjBtrLR 0.046077800379560906\n",
      " #flamenco live guitar pure joy (and safety) Love community ❤️ #nuevacasa https//tco/LttoD15uAp 0.039569615943078756\n",
      " It's major part lives always Cheers US today boys thank beautiful people supported us last 10 years ❤️ #10YearsOfOneDirection 0.03733855946480162\n",
      " worth anything 🤔 #PokemonSwordShield #pokemonchampion #Finance #money #Charizard https//tco/J0DGIrNs2f 0.0364815583749772\n",
      " Barbs support y'all giving Davido since announced collaboration Queen Nicki amazing ♥️ Thank 🙏🏽 hereby declare y'all song 💯 0.033340717976770386\n",
      " Sexy 😍 https//tco/yidhfKu0Qo 0.03329033879843008\n",
      " \"Welcome gathering\"LMFAOOOOOOO 0.031470198781918375\n",
      " \"Welcome gathering\"LMFAOOOOOOO 0.031470198781918375\n",
      " white person say \"what\" sharp hearing correctly 😅 https//tco/ueYzfHUvIN 0.030803469029966425\n",
      " 🔴 Dutch master Dennis Bergkamp one great Champions League assists 😍 | #UCL https//tco/p67NINppHj 0.028377078118782446\n"
     ]
    }
   ],
   "source": [
    "\n",
    "import pandas as pd\n",
    "import numpy as np\n",
    "from nltk.tokenize import TweetTokenizer\n",
    "from nltk.corpus import stopwords\n",
    "import string\n",
    "from sklearn.metrics.pairwise import cosine_similarity\n",
    "from sklearn.feature_extraction.text import CountVectorizer, TfidfVectorizer\n",
    "\n",
    "def senti_data(filename_pos, filename_neg):\n",
    "    '''\n",
    "    Converts a list of positive and negative words into a lists.\n",
    "    Output: pos: List of all positive words\n",
    "            neg: List of all negative words\n",
    "    '''\n",
    "    positive_vocab = ''\n",
    "    negative_vocab = ''\n",
    "\n",
    "    with open(filename_pos, 'r') as f:\n",
    "        for line in f:\n",
    "            positive_vocab += line.strip() + ' '\n",
    "\n",
    "    with open(filename_neg, 'r') as f:\n",
    "        for line in f:\n",
    "            negative_vocab += line.strip() + ' '\n",
    "    pos = []\n",
    "    neg = []\n",
    "    pos.append(positive_vocab)\n",
    "    neg.append(negative_vocab)\n",
    "    return pos, neg\n",
    "\n",
    "\n",
    "#Creating Vectorizer and transforming data\n",
    "cv = TfidfVectorizer(ngram_range=(1,3), stop_words='english', strip_accents='unicode')\n",
    "tf = cv.fit_transform(df.RETWEET)\n",
    "\n",
    "#Getting positive and negative words list\n",
    "pos, neg = senti_data('data/pos.txt','data/neg.txt')\n",
    "\n",
    "#Converting the words list to vectors\n",
    "pos_vec = cv.transform(pos)\n",
    "neg_vec = cv.transform(neg)\n",
    "\n",
    "#Calculating similarity between each tweet and the positive vector\n",
    "pos_score = np.asanyarray(cosine_similarity(tf.toarray(),pos_vec))\n",
    "neg_score = np.asanyarray(cosine_similarity(tf.toarray(),neg_vec))\n",
    "\n",
    "#Calculating net score, assuming that each tweet would have a positive and negative score associated with it. And the net difference would give me the net orientation of the tweet.\n",
    "score = pos_score - neg_score\n",
    "\n",
    "#Getting the top 20 tweets with a positive sentiment\n",
    "top_tweets = np.argsort(score.ravel())[-20:][::-1]\n",
    "for index, top_tweet in enumerate(top_tweets):\n",
    "    print(df.RETWEET[top_tweet],score.ravel()[top_tweet] )\n"
   ]
  },
  {
   "cell_type": "code",
   "execution_count": 5,
   "metadata": {},
   "outputs": [],
   "source": []
  }
 ],
 "metadata": {
  "kernelspec": {
   "display_name": "Python 3",
   "language": "python",
   "name": "python3"
  },
  "language_info": {
   "codemirror_mode": {
    "name": "ipython",
    "version": 3
   },
   "file_extension": ".py",
   "mimetype": "text/x-python",
   "name": "python",
   "nbconvert_exporter": "python",
   "pygments_lexer": "ipython3",
   "version": "3.8.5"
  }
 },
 "nbformat": 4,
 "nbformat_minor": 4
}